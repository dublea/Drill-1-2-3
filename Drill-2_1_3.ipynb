{
 "cells": [
  {
   "cell_type": "markdown",
   "metadata": {},
   "source": [
    "### Formulating good research questions"
   ]
  },
  {
   "cell_type": "markdown",
   "metadata": {},
   "source": [
    "What is the 1994 rate of juvenile delinquency in the U.S.?\n",
    "- Bad\n",
    "- What will be the 2019 rate of juvenile delinquency in the U.S.?"
   ]
  },
  {
   "cell_type": "markdown",
   "metadata": {},
   "source": [
    "What can we do to reduce juvenile delinquency in the U.S.?\n",
    "- Bad\n",
    "- Is literacy correlated with juvenile delinquency in the U.S.?"
   ]
  },
  {
   "cell_type": "markdown",
   "metadata": {},
   "source": [
    "Does education play a role in reducing juvenile delinquents' return to crime?\n",
    "- Good"
   ]
  },
  {
   "cell_type": "markdown",
   "metadata": {},
   "source": [
    "How many customers does AT&T currently serve in Washington, DC?\n",
    "- Bad\n",
    "- How many customers will AT&T serve in Washington, DC in 2019?"
   ]
  },
  {
   "cell_type": "markdown",
   "metadata": {},
   "source": [
    "What factors lead consumers to choose AT&T over other service providers?\n",
    "- Bad\n",
    "- Is geography a factor in consumers choosing AT&T?"
   ]
  },
  {
   "cell_type": "markdown",
   "metadata": {},
   "source": [
    "How can AT&T attract more customers?\n",
    "- Bad\n",
    "- Would an increase in marketing spend attract more users?"
   ]
  },
  {
   "cell_type": "markdown",
   "metadata": {},
   "source": [
    "Why did the Challenger Shuttle explode?\n",
    "- Bad\n",
    "- Can we estimate when it's probable for the next space shuttle to explode?"
   ]
  },
  {
   "cell_type": "markdown",
   "metadata": {},
   "source": [
    "Which genes are associated with increased risk of breast cancer?\n",
    "- Good"
   ]
  },
  {
   "cell_type": "markdown",
   "metadata": {},
   "source": [
    "Is it better to read to children at night or in the morning?\n",
    "- Good"
   ]
  },
  {
   "cell_type": "markdown",
   "metadata": {},
   "source": [
    "How does Google’s search algorithm work?\n",
    "- Bad\n",
    "- Can you estimate how many google searches will be performed next week?"
   ]
  }
 ],
 "metadata": {
  "kernelspec": {
   "display_name": "Python 3",
   "language": "python",
   "name": "python3"
  },
  "language_info": {
   "codemirror_mode": {
    "name": "ipython",
    "version": 3
   },
   "file_extension": ".py",
   "mimetype": "text/x-python",
   "name": "python",
   "nbconvert_exporter": "python",
   "pygments_lexer": "ipython3",
   "version": "3.7.0"
  }
 },
 "nbformat": 4,
 "nbformat_minor": 2
}
