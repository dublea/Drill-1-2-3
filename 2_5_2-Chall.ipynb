{
 "cells": [
  {
   "cell_type": "code",
   "execution_count": 1,
   "metadata": {},
   "outputs": [
    {
     "name": "stderr",
     "output_type": "stream",
     "text": [
      "/usr/local/lib/python3.7/site-packages/sklearn/cross_validation.py:41: DeprecationWarning: This module was deprecated in version 0.18 in favor of the model_selection module into which all the refactored classes and functions are moved. Also note that the interface of the new CV iterators are different from that of this module. This module will be removed in 0.20.\n",
      "  \"This module will be removed in 0.20.\", DeprecationWarning)\n"
     ]
    }
   ],
   "source": [
    "import math\n",
    "import warnings\n",
    "\n",
    "import numpy as np\n",
    "import pandas as pd\n",
    "import scipy\n",
    "import sklearn\n",
    "from sklearn import linear_model\n",
    "import statsmodels.formula.api as smf\n",
    "import matplotlib.pyplot as plt\n",
    "import seaborn as sns\n",
    "from scipy.stats import norm, kstest, boxcox\n",
    "%matplotlib inline\n",
    "\n",
    "import itertools\n",
    "from itertools import chain, combinations\n",
    "import scipy.stats as scipystats\n",
    "import statsmodels.api as sm\n",
    "import statsmodels.stats.stattools as stools\n",
    "import statsmodels.stats as stats \n",
    "from statsmodels.graphics.regressionplots import *\n",
    "import copy\n",
    "from sklearn.cross_validation import train_test_split\n",
    "import time\n",
    "\n",
    "pd.options.display.float_format = '{:,.3f}'.format\n",
    "\n",
    "# Suppress annoying harmless error.\n",
    "import warnings\n",
    "warnings.filterwarnings(action=\"ignore\", module=\"scipy\", message=\"^internal gelsd\")"
   ]
  },
  {
   "cell_type": "code",
   "execution_count": 2,
   "metadata": {},
   "outputs": [],
   "source": [
    "# Grab and process the raw data.\n",
    "# https://ucr.fbi.gov/crime-in-the-u.s/2013/crime-in-the-u.s.-2013/tables/table-8/table-8-state-cuts/table_8_offenses_known_to_law_enforcement_new_york_by_city_2013.xls\n",
    "\n",
    "data_path = (\"Unit_2-Supporting_Files/table_8_offenses_known_to_law_enforcement_new_york_by_city_2014.csv\"\n",
    "            )\n",
    "df_raw = pd.read_csv(data_path, delimiter= ',')"
   ]
  },
  {
   "cell_type": "code",
   "execution_count": 3,
   "metadata": {},
   "outputs": [
    {
     "data": {
      "text/html": [
       "<div>\n",
       "<style scoped>\n",
       "    .dataframe tbody tr th:only-of-type {\n",
       "        vertical-align: middle;\n",
       "    }\n",
       "\n",
       "    .dataframe tbody tr th {\n",
       "        vertical-align: top;\n",
       "    }\n",
       "\n",
       "    .dataframe thead th {\n",
       "        text-align: right;\n",
       "    }\n",
       "</style>\n",
       "<table border=\"1\" class=\"dataframe\">\n",
       "  <thead>\n",
       "    <tr style=\"text-align: right;\">\n",
       "      <th></th>\n",
       "      <th>City</th>\n",
       "      <th>Population</th>\n",
       "      <th>Violent\n",
       "crime</th>\n",
       "      <th>Murder and\n",
       "nonnegligent\n",
       "manslaughter</th>\n",
       "      <th>Rape\n",
       "(revised\n",
       "definition)1</th>\n",
       "      <th>Rape\n",
       "(legacy\n",
       "definition)2</th>\n",
       "      <th>Robbery</th>\n",
       "      <th>Aggravated\n",
       "assault</th>\n",
       "      <th>Property\n",
       "crime</th>\n",
       "      <th>Burglary</th>\n",
       "      <th>Larceny-\n",
       "theft</th>\n",
       "      <th>Motor\n",
       "vehicle\n",
       "theft</th>\n",
       "      <th>Arson3</th>\n",
       "      <th>Unnamed: 13</th>\n",
       "    </tr>\n",
       "  </thead>\n",
       "  <tbody>\n",
       "    <tr>\n",
       "      <th>0</th>\n",
       "      <td>Adams Village</td>\n",
       "      <td>1,851</td>\n",
       "      <td>0</td>\n",
       "      <td>0.000</td>\n",
       "      <td>NaN</td>\n",
       "      <td>0.000</td>\n",
       "      <td>0</td>\n",
       "      <td>0</td>\n",
       "      <td>11</td>\n",
       "      <td>1</td>\n",
       "      <td>10</td>\n",
       "      <td>0</td>\n",
       "      <td>0.000</td>\n",
       "      <td>nan</td>\n",
       "    </tr>\n",
       "    <tr>\n",
       "      <th>1</th>\n",
       "      <td>Addison Town and Village</td>\n",
       "      <td>2,568</td>\n",
       "      <td>2</td>\n",
       "      <td>0.000</td>\n",
       "      <td>NaN</td>\n",
       "      <td>0.000</td>\n",
       "      <td>1</td>\n",
       "      <td>1</td>\n",
       "      <td>49</td>\n",
       "      <td>1</td>\n",
       "      <td>47</td>\n",
       "      <td>1</td>\n",
       "      <td>0.000</td>\n",
       "      <td>nan</td>\n",
       "    </tr>\n",
       "    <tr>\n",
       "      <th>2</th>\n",
       "      <td>Afton Village4</td>\n",
       "      <td>820</td>\n",
       "      <td>0</td>\n",
       "      <td>0.000</td>\n",
       "      <td>0</td>\n",
       "      <td>nan</td>\n",
       "      <td>0</td>\n",
       "      <td>0</td>\n",
       "      <td>1</td>\n",
       "      <td>0</td>\n",
       "      <td>1</td>\n",
       "      <td>0</td>\n",
       "      <td>0.000</td>\n",
       "      <td>nan</td>\n",
       "    </tr>\n",
       "    <tr>\n",
       "      <th>3</th>\n",
       "      <td>Akron Village</td>\n",
       "      <td>2,842</td>\n",
       "      <td>1</td>\n",
       "      <td>0.000</td>\n",
       "      <td>NaN</td>\n",
       "      <td>0.000</td>\n",
       "      <td>0</td>\n",
       "      <td>1</td>\n",
       "      <td>17</td>\n",
       "      <td>0</td>\n",
       "      <td>17</td>\n",
       "      <td>0</td>\n",
       "      <td>0.000</td>\n",
       "      <td>nan</td>\n",
       "    </tr>\n",
       "    <tr>\n",
       "      <th>4</th>\n",
       "      <td>Albany4</td>\n",
       "      <td>98,595</td>\n",
       "      <td>802</td>\n",
       "      <td>8.000</td>\n",
       "      <td>54</td>\n",
       "      <td>nan</td>\n",
       "      <td>237</td>\n",
       "      <td>503</td>\n",
       "      <td>3,888</td>\n",
       "      <td>683</td>\n",
       "      <td>3,083</td>\n",
       "      <td>122</td>\n",
       "      <td>12.000</td>\n",
       "      <td>nan</td>\n",
       "    </tr>\n",
       "  </tbody>\n",
       "</table>\n",
       "</div>"
      ],
      "text/plain": [
       "                       City Population Violent\\ncrime  \\\n",
       "0             Adams Village      1,851              0   \n",
       "1  Addison Town and Village      2,568              2   \n",
       "2            Afton Village4        820              0   \n",
       "3             Akron Village      2,842              1   \n",
       "4                   Albany4     98,595            802   \n",
       "\n",
       "   Murder and\\nnonnegligent\\nmanslaughter Rape\\n(revised\\ndefinition)1  \\\n",
       "0                                   0.000                          NaN   \n",
       "1                                   0.000                          NaN   \n",
       "2                                   0.000                            0   \n",
       "3                                   0.000                          NaN   \n",
       "4                                   8.000                           54   \n",
       "\n",
       "   Rape\\n(legacy\\ndefinition)2 Robbery Aggravated\\nassault Property\\ncrime  \\\n",
       "0                        0.000       0                   0              11   \n",
       "1                        0.000       1                   1              49   \n",
       "2                          nan       0                   0               1   \n",
       "3                        0.000       0                   1              17   \n",
       "4                          nan     237                 503           3,888   \n",
       "\n",
       "  Burglary Larceny-\\ntheft Motor\\nvehicle\\ntheft  Arson3  Unnamed: 13  \n",
       "0        1              10                     0   0.000          nan  \n",
       "1        1              47                     1   0.000          nan  \n",
       "2        0               1                     0   0.000          nan  \n",
       "3        0              17                     0   0.000          nan  \n",
       "4      683           3,083                   122  12.000          nan  "
      ]
     },
     "execution_count": 3,
     "metadata": {},
     "output_type": "execute_result"
    }
   ],
   "source": [
    "df_raw.head()"
   ]
  },
  {
   "cell_type": "code",
   "execution_count": 4,
   "metadata": {},
   "outputs": [
    {
     "data": {
      "text/plain": [
       "Index(['City', 'Population', 'Violent\\ncrime',\n",
       "       'Murder and\\nnonnegligent\\nmanslaughter',\n",
       "       'Rape\\n(revised\\ndefinition)1', 'Rape\\n(legacy\\ndefinition)2',\n",
       "       'Robbery', 'Aggravated\\nassault', 'Property\\ncrime', 'Burglary',\n",
       "       'Larceny-\\ntheft', 'Motor\\nvehicle\\ntheft', 'Arson3', 'Unnamed: 13'],\n",
       "      dtype='object')"
      ]
     },
     "execution_count": 4,
     "metadata": {},
     "output_type": "execute_result"
    }
   ],
   "source": [
    "df_raw.columns"
   ]
  },
  {
   "cell_type": "code",
   "execution_count": 5,
   "metadata": {},
   "outputs": [],
   "source": [
    "# Create new df and Remove 3 unwanted columns and rows.\n",
    "df = df_raw.drop(['Rape\\n(revised\\ndefinition)1','Rape\\n(legacy\\ndefinition)2','Unnamed: 13', 'Arson3'], axis=1).drop(df_raw.index[-3:]).copy()"
   ]
  },
  {
   "cell_type": "code",
   "execution_count": 6,
   "metadata": {},
   "outputs": [],
   "source": [
    "# Make a dataframe copy and rename columns\n",
    "df.rename(columns={'Violent\\ncrime':'Violence',\n",
    "                            'Murder and\\nnonnegligent\\nmanslaughter':'Murder',\n",
    "                            'Aggravated\\nassault':'Assault',\n",
    "                            'Property\\ncrime':'Prop_Crime',\n",
    "                            'Larceny-\\ntheft':'Theft',\n",
    "                            'Motor\\nvehicle\\ntheft':'MV_Theft'}, inplace=True)"
   ]
  },
  {
   "cell_type": "code",
   "execution_count": 7,
   "metadata": {},
   "outputs": [],
   "source": [
    "# Drop NaNs\n",
    "df = df.dropna()"
   ]
  },
  {
   "cell_type": "code",
   "execution_count": 8,
   "metadata": {},
   "outputs": [],
   "source": [
    "#Pop size squared:\n",
    "\n",
    "## Remove commas in pop size and robbery numericals\n",
    "df['Population'] = df.Population.str.replace(',', '')\n",
    "df['Violence'] = df.Violence.str.replace(',', '')\n",
    "df['Robbery'] = df.Robbery.str.replace(',', '')\n",
    "df['Assault'] = df.Assault.str.replace(',', '')\n",
    "df['Prop_Crime'] = df.Prop_Crime.str.replace(',', '')\n",
    "df['Burglary'] = df.Burglary.str.replace(',', '')\n",
    "df['Theft'] = df.Theft.str.replace(',', '')\n",
    "df['MV_Theft'] = df.MV_Theft.str.replace(',', '')\n",
    "df['City'] = df.City.str.replace('4', '')\n",
    "\n",
    "## Convert type to int (from string)\n",
    "df['Population'] = df.Population.astype(int)\n",
    "df['Violence'] = df.Violence.astype(int)\n",
    "df['Murder'] = df.Murder.astype(int)\n",
    "df['Assault'] = df.Assault.astype(int)\n",
    "df['Robbery'] = df.Robbery.astype(int)\n",
    "df['Prop_Crime'] = df.Prop_Crime.astype(int)\n",
    "df['Burglary'] = df.Burglary.astype(int)\n",
    "df['Theft'] = df.Theft.astype(int)\n",
    "df['MV_Theft'] = df.MV_Theft.astype(int)"
   ]
  },
  {
   "cell_type": "code",
   "execution_count": 9,
   "metadata": {},
   "outputs": [
    {
     "name": "stdout",
     "output_type": "stream",
     "text": [
      "<class 'pandas.core.frame.DataFrame'>\n",
      "Int64Index: 368 entries, 0 to 368\n",
      "Data columns (total 10 columns):\n",
      "City          368 non-null object\n",
      "Population    368 non-null int64\n",
      "Violence      368 non-null int64\n",
      "Murder        368 non-null int64\n",
      "Robbery       368 non-null int64\n",
      "Assault       368 non-null int64\n",
      "Prop_Crime    368 non-null int64\n",
      "Burglary      368 non-null int64\n",
      "Theft         368 non-null int64\n",
      "MV_Theft      368 non-null int64\n",
      "dtypes: int64(9), object(1)\n",
      "memory usage: 31.6+ KB\n"
     ]
    }
   ],
   "source": [
    "df.info()"
   ]
  },
  {
   "cell_type": "code",
   "execution_count": 10,
   "metadata": {},
   "outputs": [],
   "source": [
    "# Create new features: murder to categorical, robbery to catgorical\n",
    "df['Murder_feat'] = np.where((df['Murder']==0), 0, 1)\n",
    "df['Robbery_feat'] = np.where((df['Robbery']==0), 0, 1)\n",
    "\n",
    "## Square & Square Root the Population\n",
    "df['Population_Sq_feat'] = df.Population * df.Population\n",
    "df['Population_Sqrt_feat'] = [math.sqrt(x) for x in df.Population]"
   ]
  },
  {
   "cell_type": "code",
   "execution_count": 11,
   "metadata": {},
   "outputs": [
    {
     "data": {
      "text/html": [
       "<div>\n",
       "<style scoped>\n",
       "    .dataframe tbody tr th:only-of-type {\n",
       "        vertical-align: middle;\n",
       "    }\n",
       "\n",
       "    .dataframe tbody tr th {\n",
       "        vertical-align: top;\n",
       "    }\n",
       "\n",
       "    .dataframe thead th {\n",
       "        text-align: right;\n",
       "    }\n",
       "</style>\n",
       "<table border=\"1\" class=\"dataframe\">\n",
       "  <thead>\n",
       "    <tr style=\"text-align: right;\">\n",
       "      <th></th>\n",
       "      <th>City</th>\n",
       "      <th>Population</th>\n",
       "      <th>Population_Sq_feat</th>\n",
       "      <th>Prop_Crime</th>\n",
       "    </tr>\n",
       "  </thead>\n",
       "  <tbody>\n",
       "    <tr>\n",
       "      <th>227</th>\n",
       "      <td>New York</td>\n",
       "      <td>8473938</td>\n",
       "      <td>71807625227844</td>\n",
       "      <td>135747</td>\n",
       "    </tr>\n",
       "    <tr>\n",
       "      <th>38</th>\n",
       "      <td>Buffalo</td>\n",
       "      <td>258419</td>\n",
       "      <td>66780379561</td>\n",
       "      <td>12449</td>\n",
       "    </tr>\n",
       "    <tr>\n",
       "      <th>283</th>\n",
       "      <td>Rochester</td>\n",
       "      <td>210347</td>\n",
       "      <td>44245860409</td>\n",
       "      <td>8856</td>\n",
       "    </tr>\n",
       "    <tr>\n",
       "      <th>326</th>\n",
       "      <td>Syracuse</td>\n",
       "      <td>144534</td>\n",
       "      <td>20890077156</td>\n",
       "      <td>5755</td>\n",
       "    </tr>\n",
       "    <tr>\n",
       "      <th>4</th>\n",
       "      <td>Albany</td>\n",
       "      <td>98595</td>\n",
       "      <td>9720974025</td>\n",
       "      <td>3888</td>\n",
       "    </tr>\n",
       "  </tbody>\n",
       "</table>\n",
       "</div>"
      ],
      "text/plain": [
       "          City  Population  Population_Sq_feat  Prop_Crime\n",
       "227   New York     8473938      71807625227844      135747\n",
       "38     Buffalo      258419         66780379561       12449\n",
       "283  Rochester      210347         44245860409        8856\n",
       "326   Syracuse      144534         20890077156        5755\n",
       "4       Albany       98595          9720974025        3888"
      ]
     },
     "execution_count": 11,
     "metadata": {},
     "output_type": "execute_result"
    }
   ],
   "source": [
    "df[['City','Population','Population_Sq_feat','Prop_Crime']].sort_values('Prop_Crime', ascending=False).head()"
   ]
  },
  {
   "cell_type": "code",
   "execution_count": 12,
   "metadata": {},
   "outputs": [],
   "source": [
    "# Create variable that drops an outlier to compare against raw.\n",
    "df_drop_nyc =  df[df.City != 'New York']"
   ]
  },
  {
   "cell_type": "code",
   "execution_count": 13,
   "metadata": {},
   "outputs": [
    {
     "data": {
      "image/png": "[encoded data removed]",
      "text/plain": [
       "<Figure size 432x288 with 2 Axes>"
      ]
     },
     "metadata": {},
     "output_type": "display_data"
    },
    {
     "name": "stdout",
     "output_type": "stream",
     "text": [
      "                      Population  Violence  Murder  Robbery  Assault  \\\n",
      "Population                 1.000     0.999   0.985    0.998    0.999   \n",
      "Violence                   0.999     1.000   0.991    1.000    1.000   \n",
      "Murder                     0.985     0.991   1.000    0.993    0.989   \n",
      "Robbery                    0.998     1.000   0.993    1.000    1.000   \n",
      "Assault                    0.999     1.000   0.989    1.000    1.000   \n",
      "Prop_Crime                 0.996     0.998   0.995    0.998    0.997   \n",
      "Burglary                   0.977     0.983   0.996    0.985    0.981   \n",
      "Theft                      0.998     0.999   0.992    0.999    0.998   \n",
      "MV_Theft                   0.993     0.996   0.998    0.997    0.995   \n",
      "Murder_feat                0.163     0.165   0.205    0.168    0.161   \n",
      "Robbery_feat               0.072     0.065   0.076    0.066    0.063   \n",
      "Population_Sq_feat         0.998     0.997   0.978    0.995    0.998   \n",
      "Population_Sqrt_feat       0.924     0.922   0.930    0.924    0.920   \n",
      "\n",
      "                      Prop_Crime  Burglary  Theft  MV_Theft  Murder_feat  \\\n",
      "Population                 0.996     0.977  0.998     0.993        0.163   \n",
      "Violence                   0.998     0.983  0.999     0.996        0.165   \n",
      "Murder                     0.995     0.996  0.992     0.998        0.205   \n",
      "Robbery                    0.998     0.985  0.999     0.997        0.168   \n",
      "Assault                    0.997     0.981  0.998     0.995        0.161   \n",
      "Prop_Crime                 1.000     0.991  1.000     0.998        0.194   \n",
      "Burglary                   0.991     1.000  0.988     0.994        0.235   \n",
      "Theft                      1.000     0.988  1.000     0.997        0.188   \n",
      "MV_Theft                   0.998     0.994  0.997     1.000        0.190   \n",
      "Murder_feat                0.194     0.235  0.188     0.190        1.000   \n",
      "Robbery_feat               0.087     0.104  0.085     0.078        0.315   \n",
      "Population_Sq_feat         0.991     0.966  0.993     0.987        0.131   \n",
      "Population_Sqrt_feat       0.937     0.944  0.935     0.934        0.374   \n",
      "\n",
      "                      Robbery_feat  Population_Sq_feat  Population_Sqrt_feat  \n",
      "Population                   0.072               0.998                 0.924  \n",
      "Violence                     0.065               0.997                 0.922  \n",
      "Murder                       0.076               0.978                 0.930  \n",
      "Robbery                      0.066               0.995                 0.924  \n",
      "Assault                      0.063               0.998                 0.920  \n",
      "Prop_Crime                   0.087               0.991                 0.937  \n",
      "Burglary                     0.104               0.966                 0.944  \n",
      "Theft                        0.085               0.993                 0.935  \n",
      "MV_Theft                     0.078               0.987                 0.934  \n",
      "Murder_feat                  0.315               0.131                 0.374  \n",
      "Robbery_feat                 1.000               0.049                 0.282  \n",
      "Population_Sq_feat           0.049               1.000                 0.902  \n",
      "Population_Sqrt_feat         0.282               0.902                 1.000  \n"
     ]
    }
   ],
   "source": [
    "corrmat = df.corr()\n",
    "corrmat_drop_nyc = df_drop_nyc.corr()\n",
    "\n",
    "# Draw the heatmap using seaborn\n",
    "sns.heatmap(corrmat, vmin=0, vmax=1, square=True)\n",
    "plt.show()\n",
    "\n",
    "print(corrmat)"
   ]
  },
  {
   "cell_type": "code",
   "execution_count": 14,
   "metadata": {},
   "outputs": [
    {
     "name": "stderr",
     "output_type": "stream",
     "text": [
      "/usr/local/lib/python3.7/site-packages/scipy/stats/stats.py:1713: FutureWarning: Using a non-tuple sequence for multidimensional indexing is deprecated; use `arr[tuple(seq)]` instead of `arr[seq]`. In the future this will be interpreted as an array index, `arr[np.array(seq)]`, which will result either in an error or a different result.\n",
      "  return np.add.reduce(sorted[indexer] * weights, axis=axis) / sumval\n"
     ]
    },
    {
     "data": {
      "text/plain": [
       "<matplotlib.axes._subplots.AxesSubplot at 0x114b1c278>"
      ]
     },
     "execution_count": 14,
     "metadata": {},
     "output_type": "execute_result"
    },
    {
     "data": {
      "image/png": "[encoded data removed]",
      "text/plain": [
       "<Figure size 432x288 with 1 Axes>"
      ]
     },
     "metadata": {},
     "output_type": "display_data"
    }
   ],
   "source": [
    "sns.regplot(df.Murder, df.Prop_Crime)"
   ]
  },
  {
   "cell_type": "code",
   "execution_count": 15,
   "metadata": {},
   "outputs": [
    {
     "data": {
      "image/png": "[encoded data removed]",
      "text/plain": [
       "<Figure size 432x288 with 4 Axes>"
      ]
     },
     "metadata": {},
     "output_type": "display_data"
    }
   ],
   "source": [
    "# Checking out the distribution of the independent variable: TV\n",
    "fig = plt.figure()\n",
    "plt.subplots_adjust(left=None, bottom=-.5, right=None, top=None, wspace=None, hspace=None)\n",
    "\n",
    "fig.add_subplot(221)\n",
    "sns.distplot(df['Prop_Crime'], kde=False, rug=True, bins=25)\n",
    "plt.title('Raw Property Crimes')\n",
    "plt.xlabel('Property Crimes')\n",
    "plt.ylabel('Count of Property Crimes')\n",
    "\n",
    "fig.add_subplot(222)\n",
    "sns.distplot(np.log(df['Prop_Crime'][df.Prop_Crime != 0]),kde=False, rug=True, bins=10)\n",
    "plt.title('Log Property Crimes')\n",
    "plt.xlabel('Property Crimes')\n",
    "plt.ylabel('Count of Property Crimes')\n",
    "\n",
    "fig.add_subplot(223)\n",
    "sns.distplot(np.sqrt(df['Prop_Crime']),kde=False, rug=True, bins=25)\n",
    "plt.title('Square root Property Crimes')\n",
    "plt.xlabel('Property Crimes')\n",
    "plt.ylabel('Count of Property Crimes')\n",
    "\n",
    "# ax3=fig.add_subplot(224)\n",
    "# Box Cox Transformation:\n",
    "# http://www.kmdatascience.com/2017/07/box-cox-transformations-in-python.html\n",
    "\n",
    "# Transform_Prop_Crime = np.asarray(df['Prop_Crime'][df.Prop_Crime != 0].values)\n",
    "\n",
    "# # transform values and store as \"sales_boxcox\"\n",
    "# Prop_Crime_boxcox = boxcox(Transform_Prop_Crime)[0]\n",
    "\n",
    "# # # create the boxcox_sales transformed variable:\n",
    "# df['Prop_Crime_boxcox'] = Prop_Crime_boxcox\n",
    "\n",
    "# print(df.Prop_Crime_boxcox.unique())\n",
    "\n",
    "# # plot the transformed box cox data\n",
    "ax3=fig.add_subplot(224)\n",
    "plt.hist(1/df['Prop_Crime'][df.Prop_Crime != 0])\n",
    "plt.title('Inverse')\n",
    "plt.show()\n",
    "\n",
    "# plt.show()"
   ]
  },
  {
   "cell_type": "code",
   "execution_count": 16,
   "metadata": {},
   "outputs": [
    {
     "name": "stdout",
     "output_type": "stream",
     "text": [
      "Count of cities w/ 0 Property Crimes:\n",
      " 6\n"
     ]
    }
   ],
   "source": [
    "# In order to use log, we must know if there's a significant count of instances of \n",
    "print('Count of cities w/ 0 Property Crimes:\\n',(df['Prop_Crime'] == 0).sum())"
   ]
  },
  {
   "cell_type": "code",
   "execution_count": 17,
   "metadata": {},
   "outputs": [
    {
     "name": "stderr",
     "output_type": "stream",
     "text": [
      "/usr/local/lib/python3.7/site-packages/ipykernel_launcher.py:6: SettingWithCopyWarning: \n",
      "A value is trying to be set on a copy of a slice from a DataFrame.\n",
      "Try using .loc[row_indexer,col_indexer] = value instead\n",
      "\n",
      "See the caveats in the documentation: http://pandas.pydata.org/pandas-docs/stable/indexing.html#indexing-view-versus-copy\n",
      "  \n",
      "/usr/local/lib/python3.7/site-packages/ipykernel_launcher.py:7: SettingWithCopyWarning: \n",
      "A value is trying to be set on a copy of a slice from a DataFrame.\n",
      "Try using .loc[row_indexer,col_indexer] = value instead\n",
      "\n",
      "See the caveats in the documentation: http://pandas.pydata.org/pandas-docs/stable/indexing.html#indexing-view-versus-copy\n",
      "  import sys\n"
     ]
    }
   ],
   "source": [
    "# Only Drop 6 observations, which is an immaterial amount. Will drop these observations\n",
    "# and Transform the variable\n",
    "df_drop_zero = df[df.Prop_Crime != 0]\n",
    "df_drop_nyc_zero = df_drop_nyc[df_drop_nyc.Prop_Crime != 0]\n",
    "# Add new feature\n",
    "df_drop_zero['Prop_Crime_log'] = np.log(df_drop_zero['Prop_Crime'])\n",
    "df_drop_nyc_zero['Prop_Crime_log'] = np.log(df_drop_nyc_zero['Prop_Crime'])"
   ]
  },
  {
   "cell_type": "code",
   "execution_count": 18,
   "metadata": {},
   "outputs": [
    {
     "name": "stdout",
     "output_type": "stream",
     "text": [
      "<class 'pandas.core.frame.DataFrame'>\n",
      "Int64Index: 362 entries, 0 to 368\n",
      "Data columns (total 15 columns):\n",
      "City                    362 non-null object\n",
      "Population              362 non-null int64\n",
      "Violence                362 non-null int64\n",
      "Murder                  362 non-null int64\n",
      "Robbery                 362 non-null int64\n",
      "Assault                 362 non-null int64\n",
      "Prop_Crime              362 non-null int64\n",
      "Burglary                362 non-null int64\n",
      "Theft                   362 non-null int64\n",
      "MV_Theft                362 non-null int64\n",
      "Murder_feat             362 non-null int64\n",
      "Robbery_feat            362 non-null int64\n",
      "Population_Sq_feat      362 non-null int64\n",
      "Population_Sqrt_feat    362 non-null float64\n",
      "Prop_Crime_log          362 non-null float64\n",
      "dtypes: float64(2), int64(12), object(1)\n",
      "memory usage: 45.2+ KB\n"
     ]
    }
   ],
   "source": [
    "df_drop_zero.info()"
   ]
  },
  {
   "cell_type": "code",
   "execution_count": 19,
   "metadata": {},
   "outputs": [
    {
     "name": "stdout",
     "output_type": "stream",
     "text": [
      "Coefficients\n",
      " Intercept   4.366\n",
      "Murder      0.028\n",
      "dtype: float64 \n",
      "\n",
      "P Values\n",
      " Intercept   0.000\n",
      "Murder      0.000\n",
      "dtype: float64 \n",
      "\n",
      "R Squared\n",
      " 0.07789782002812351 \n",
      "\n",
      "Confidence Intervals\n",
      "               0     1\n",
      "Intercept 4.188 4.544\n",
      "Murder    0.018 0.038\n"
     ]
    },
    {
     "data": {
      "image/png": "[encoded data removed]",
      "text/plain": [
       "<Figure size 432x288 with 1 Axes>"
      ]
     },
     "metadata": {},
     "output_type": "display_data"
    }
   ],
   "source": [
    "lm_all = smf.ols(formula = \"Prop_Crime_log ~ Murder\", data = df_drop_zero).fit()\n",
    "\n",
    "print('Coefficients\\n',lm_all.params,'\\n')\n",
    "print('P Values\\n',lm_all.pvalues,'\\n')\n",
    "print('R Squared\\n',lm_all.rsquared,'\\n')\n",
    "print('Confidence Intervals\\n',lm_all.conf_int())\n",
    "\n",
    "resid = lm_all.resid\n",
    "plt.scatter(lm_all.predict(), resid)\n",
    "plt.xlabel('Predicted')\n",
    "plt.ylabel('Residual')\n",
    "plt.axhline(y=0)\n",
    "plt.title('Residual vs. Predicted (log)')\n",
    "plt.show()"
   ]
  },
  {
   "cell_type": "code",
   "execution_count": 20,
   "metadata": {},
   "outputs": [
    {
     "name": "stdout",
     "output_type": "stream",
     "text": [
      "Coefficients\n",
      " Intercept   4.215\n",
      "Assault     0.006\n",
      "dtype: float64 \n",
      "\n",
      "P Values\n",
      " Intercept   0.000\n",
      "Assault     0.000\n",
      "dtype: float64 \n",
      "\n",
      "R Squared\n",
      " 0.18004680686852126 \n",
      "\n",
      "Confidence Intervals\n",
      "               0     1\n",
      "Intercept 4.047 4.384\n",
      "Assault   0.005 0.008\n"
     ]
    },
    {
     "data": {
      "image/png": "[encoded data removed]",
      "text/plain": [
       "<Figure size 432x288 with 1 Axes>"
      ]
     },
     "metadata": {},
     "output_type": "display_data"
    }
   ],
   "source": [
    "lm_drop_nyc = smf.ols(formula = \"Prop_Crime_log ~ Assault\", data = df_drop_nyc_zero).fit()\n",
    "\n",
    "print('Coefficients\\n',lm_drop_nyc.params,'\\n')\n",
    "print('P Values\\n',lm_drop_nyc.pvalues,'\\n')\n",
    "print('R Squared\\n',lm_drop_nyc.rsquared,'\\n')\n",
    "print('Confidence Intervals\\n',lm_drop_nyc.conf_int())\n",
    "\n",
    "resid = lm_drop_nyc.resid\n",
    "plt.scatter(lm_drop_nyc.predict(), resid)\n",
    "plt.xlabel('Predicted')\n",
    "plt.ylabel('Residual')\n",
    "plt.axhline(y=0)\n",
    "plt.title('Residual vs. Predicted (Drop NYC, log)')\n",
    "plt.show()"
   ]
  },
  {
   "cell_type": "code",
   "execution_count": 63,
   "metadata": {},
   "outputs": [
    {
     "name": "stdout",
     "output_type": "stream",
     "text": [
      "Coefficients\n",
      " Intercept   202.823\n",
      "Violence      2.691\n",
      "dtype: float64 \n",
      "\n",
      "P Values\n",
      " Intercept   0.000\n",
      "Violence    0.000\n",
      "dtype: float64 \n",
      "\n",
      "R Squared\n",
      " 0.996036827927479 \n",
      "\n",
      "Confidence Intervals\n",
      "                 0       1\n",
      "Intercept 156.677 248.969\n",
      "Violence    2.673   2.708\n"
     ]
    },
    {
     "data": {
      "image/png": "[encoded data removed]",
      "text/plain": [
       "<Figure size 432x288 with 1 Axes>"
      ]
     },
     "metadata": {},
     "output_type": "display_data"
    }
   ],
   "source": [
    "lm = smf.ols(formula = \"Prop_Crime ~ Violence\", data = df).fit()\n",
    "\n",
    "print('Coefficients\\n',lm.params,'\\n')\n",
    "print('P Values\\n',lm.pvalues,'\\n')\n",
    "print('R Squared\\n',lm.rsquared,'\\n')\n",
    "print('Confidence Intervals\\n',lm.conf_int())\n",
    "\n",
    "resid = lm.resid\n",
    "plt.scatter(lm.predict(), resid)\n",
    "plt.xlabel('Predicted')\n",
    "plt.ylabel('Residual')\n",
    "plt.axhline(y=0)\n",
    "plt.title('Residual vs. Predicted (Raw)')\n",
    "plt.show()"
   ]
  },
  {
   "cell_type": "code",
   "execution_count": 64,
   "metadata": {},
   "outputs": [
    {
     "name": "stdout",
     "output_type": "stream",
     "text": [
      "                            OLS Regression Results                            \n",
      "==============================================================================\n",
      "Dep. Variable:             Prop_Crime   R-squared:                       0.996\n",
      "Model:                            OLS   Adj. R-squared:                  0.996\n",
      "Method:                 Least Squares   F-statistic:                 9.198e+04\n",
      "Date:                Sun, 18 Nov 2018   Prob (F-statistic):               0.00\n",
      "Time:                        18:04:52   Log-Likelihood:                -2768.6\n",
      "No. Observations:                 368   AIC:                             5541.\n",
      "Df Residuals:                     366   BIC:                             5549.\n",
      "Df Model:                           1                                         \n",
      "Covariance Type:            nonrobust                                         \n",
      "==============================================================================\n",
      "                 coef    std err          t      P>|t|      [0.025      0.975]\n",
      "------------------------------------------------------------------------------\n",
      "Intercept    202.8229     23.466      8.643      0.000     156.677     248.969\n",
      "Violence       2.6905      0.009    303.289      0.000       2.673       2.708\n",
      "==============================================================================\n",
      "Omnibus:                      397.926   Durbin-Watson:                   2.073\n",
      "Prob(Omnibus):                  0.000   Jarque-Bera (JB):            16607.551\n",
      "Skew:                           4.831   Prob(JB):                         0.00\n",
      "Kurtosis:                      34.460   Cond. No.                     2.65e+03\n",
      "==============================================================================\n",
      "\n",
      "Warnings:\n",
      "[1] Standard Errors assume that the covariance matrix of the errors is correctly specified.\n",
      "[2] The condition number is large, 2.65e+03. This might indicate that there are\n",
      "strong multicollinearity or other numerical problems.\n"
     ]
    }
   ],
   "source": [
    "print(lm.summary())\n",
    "elem1res = pd.concat([df, pd.Series(lm.resid, name = 'resid'), pd.Series(lm.predict(), name = \"predict\")], axis = 1)"
   ]
  },
  {
   "cell_type": "markdown",
   "metadata": {},
   "source": [
    "### Writeup"
   ]
  },
  {
   "cell_type": "markdown",
   "metadata": {},
   "source": [
    "#### Assumption one: linear relationship\n",
    "Using the raw variables Violence produce an R-Squared of 99.6% and thus, virtually all of the variance Property Crimes.\n",
    "\n",
    "Looking at the coefficients, there's a intercept of 202.8, which indicates that Property Crimes would happen with the other Violent crimes happening. Violence has the Property Crime increase on with 2.69 per Property Crime.\n",
    "\n",
    "Due to the accuracy of the raw variables, engineering additional features would would yield minimal value."
   ]
  },
  {
   "cell_type": "markdown",
   "metadata": {},
   "source": [
    "#### Assumption two: multivariate normality\n",
    "The error from the model (calculated by subtracting the model-predicted values from the real outcome values) should is normally distributed, with a very high reversion to the mean.\n",
    "\n",
    "Initially, despite the City of New York being an large outlier, it actually maps well along the line of best fit amongst the different crime variables. Dropping New York actually resulted in less accuracy and weaker linear relationship.\n",
    "\n",
    "I tried transforming the data to log, however this drastically reduced the R sq and confidence intervals, which made the regression unusable.\n",
    "\n",
    "While transforming the data to log more evenly distributes the data, the raw distribution is sufficient enough, with an understanding of the high reversion to the mean. There is a risk over overfitting."
   ]
  },
  {
   "cell_type": "markdown",
   "metadata": {},
   "source": [
    "#### Assumption three: homoscedasticity\n",
    "At first glance, the errors seem to not be consistently distributed. The scale of the scatter plot is framing this view, and removing NYC illustrates that the rest of the data is more consistently distributed.\n",
    "\n",
    "The larger value of NYC is still consistent with the other errors, however just much larger.\n",
    "\n",
    "The homoscedasticity is best distributed with Violence, however the graph could certainly be better scattered."
   ]
  },
  {
   "cell_type": "markdown",
   "metadata": {},
   "source": [
    "#### Assumption four: low multicollinearity¶\n",
    "Only one variable is used, resulting in no multicollinearity."
   ]
  }
 ],
 "metadata": {
  "kernelspec": {
   "display_name": "Python 3",
   "language": "python",
   "name": "python3"
  },
  "language_info": {
   "codemirror_mode": {
    "name": "ipython",
    "version": 3
   },
   "file_extension": ".py",
   "mimetype": "text/x-python",
   "name": "python",
   "nbconvert_exporter": "python",
   "pygments_lexer": "ipython3",
   "version": "3.7.0"
  }
 },
 "nbformat": 4,
 "nbformat_minor": 2
}
