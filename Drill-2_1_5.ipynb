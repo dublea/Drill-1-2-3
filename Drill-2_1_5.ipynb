{
 "cells": [
  {
   "cell_type": "markdown",
   "metadata": {},
   "source": [
    "### TLADS\n",
    "1. Country: Categorical\n",
    "2. ESS Round: Categorical\n",
    "3. Respondent's ID #: Categorical\n",
    "4. Avg. Wkdy TV: Continuous, Ordinal\n",
    "5. Trust: Continuous, Ordinal\n",
    "6. Fairness: Continuous, Ordinal\n",
    "7. Happiness: Continuous, Ordinal\n",
    "8. Socialness: Continuous, Ordinal\n",
    "9. Social Activities: Continuous, Ordinal\n",
    "10. Gender: Categorical\n",
    "11. Age: Continuous, Interval\n",
    "12. Partner: Categorical"
   ]
  }
 ],
 "metadata": {
  "kernelspec": {
   "display_name": "Python 3",
   "language": "python",
   "name": "python3"
  },
  "language_info": {
   "codemirror_mode": {
    "name": "ipython",
    "version": 3
   },
   "file_extension": ".py",
   "mimetype": "text/x-python",
   "name": "python",
   "nbconvert_exporter": "python",
   "pygments_lexer": "ipython3",
   "version": "3.7.0"
  }
 },
 "nbformat": 4,
 "nbformat_minor": 2
}
