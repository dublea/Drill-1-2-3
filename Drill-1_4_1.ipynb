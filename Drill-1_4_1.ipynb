{
 "cells": [
  {
   "cell_type": "markdown",
   "metadata": {},
   "source": [
    "# A/B Testing Drill"
   ]
  },
  {
   "cell_type": "markdown",
   "metadata": {},
   "source": [
    "### For each of the following questions, outline how you could use an A/B test to find an answer. Be sure to identify all five key components of an A/B test we outlined above."
   ]
  },
  {
   "cell_type": "markdown",
   "metadata": {},
   "source": [
    "Two versions of something whose effects will be compared. Typically one version is a \"control version,\" often already in use (or \"no intervention\"), and one is a \"test version,\" which has some changes from the control. That change is often called the treatment. If starting from scratch, however, you may have two different test versions to compare to each other.<br>\n",
    "\n",
    "A sample, divided into two groups. Each sample should be selected so that it is similar to the population you want to understand. The groups should be similar to one another so that any differences between them can be attributed to seeing version A or version B and not something else. You also want the split of between A and B to be as random as possible.<br>\n",
    "\n",
    "A hypothesis. Your hypothesis is what you expect to happen. For example, \"I expect the HTML email will achieve a higher open and conversion rate than the plain text email.\"<br>\n",
    "\n",
    "Outcome(s) of interest. What you expect will change as a result of using version A or version B, and how you will measure that change. This means you have to decide on a key metric, which should capture the effect of your change and reflect the motivations for the test in the first place.<br>\n",
    "\n",
    "Other measured variables. This includes information about the two groups that can be used to ensure they are similar, as well as secondary outcomes that are less important than the primary outcomes of interest but which might also change in response to using version A or version B.<br>\n"
   ]
  },
  {
   "cell_type": "markdown",
   "metadata": {},
   "source": [
    "Does a new supplement help people sleep better? <br>\n",
    "1. Takes pill vs. Not\n",
    "2. People at a retirement home.\n",
    "3. People will get more sleep.\n",
    "4. Minutes of sleep.\n",
    "5. Age, health, minutes of sleep prior to experiment."
   ]
  },
  {
   "cell_type": "markdown",
   "metadata": {},
   "source": [
    "Will new uniforms help a gym's business?<br>\n",
    "1. One gym wears uniform for a month vs. not\n",
    "2. Two gyms during the same time that are not far from each other\n",
    "3. Uniforms will be beneficial.\n",
    "4. New sales MoM adjusted for seasonality, NPS of customers and employees\n",
    "5. Seasonality adjustments"
   ]
  },
  {
   "cell_type": "markdown",
   "metadata": {},
   "source": [
    "Will a new homepage improve my online exotic pet rental business?<br>\n",
    "1. Old website v new website\n",
    "2. Users randomly chosen to visit either website\n",
    "3. New website is beneficial\n",
    "4. conversion % and sales\n",
    "5. seasonality adjustments, time of day and week"
   ]
  },
  {
   "cell_type": "markdown",
   "metadata": {},
   "source": [
    "If I put 'please read' in the email subject will more people read my emails?<br>\n",
    "1. 'Please Read' vs not\n",
    "2. Random sample chosen for 'Please Read' of th\n",
    "3. 'Please read' increases CTR\n",
    "4. Click through rate, bounce %\n",
    "5. Time of day e-mail are sent"
   ]
  }
 ],
 "metadata": {
  "kernelspec": {
   "display_name": "Python 3",
   "language": "python",
   "name": "python3"
  },
  "language_info": {
   "codemirror_mode": {
    "name": "ipython",
    "version": 3
   },
   "file_extension": ".py",
   "mimetype": "text/x-python",
   "name": "python",
   "nbconvert_exporter": "python",
   "pygments_lexer": "ipython3",
   "version": "3.7.0"
  }
 },
 "nbformat": 4,
 "nbformat_minor": 2
}
