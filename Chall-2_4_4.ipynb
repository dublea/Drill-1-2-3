{
 "cells": [
  {
   "cell_type": "code",
   "execution_count": 1,
   "metadata": {},
   "outputs": [
    {
     "name": "stderr",
     "output_type": "stream",
     "text": [
      "/usr/local/lib/python3.7/site-packages/sklearn/cross_validation.py:41: DeprecationWarning: This module was deprecated in version 0.18 in favor of the model_selection module into which all the refactored classes and functions are moved. Also note that the interface of the new CV iterators are different from that of this module. This module will be removed in 0.20.\n",
      "  \"This module will be removed in 0.20.\", DeprecationWarning)\n"
     ]
    }
   ],
   "source": [
    "import math\n",
    "import warnings\n",
    "\n",
    "import numpy as np\n",
    "import pandas as pd\n",
    "import scipy\n",
    "import sklearn\n",
    "from sklearn import linear_model\n",
    "import statsmodels.formula.api as smf\n",
    "import matplotlib.pyplot as plt\n",
    "import seaborn as sns\n",
    "from scipy.stats import norm, kstest, boxcox\n",
    "%matplotlib inline\n",
    "\n",
    "import itertools\n",
    "from itertools import chain, combinations\n",
    "import scipy.stats as scipystats\n",
    "import statsmodels.api as sm\n",
    "import statsmodels.stats.stattools as stools\n",
    "import statsmodels.stats as stats \n",
    "from statsmodels.graphics.regressionplots import *\n",
    "import copy\n",
    "from sklearn.cross_validation import train_test_split\n",
    "import time\n",
    "\n",
    "\n",
    "pd.options.display.float_format = '{:,.3f}'.format\n",
    "\n",
    "# Suppress annoying harmless error.\n",
    "import warnings\n",
    "warnings.filterwarnings(action=\"ignore\", module=\"scipy\", message=\"^internal gelsd\")"
   ]
  },
  {
   "cell_type": "code",
   "execution_count": 2,
   "metadata": {},
   "outputs": [],
   "source": [
    "# Grab and process the raw data.\n",
    "# https://ucr.fbi.gov/crime-in-the-u.s/2013/crime-in-the-u.s.-2013/tables/table-8/table-8-state-cuts/table_8_offenses_known_to_law_enforcement_new_york_by_city_2013.xls\n",
    "\n",
    "data_path = (\"Unit_2-Supporting_Files/table_8_offenses_known_to_law_enforcement_new_york_by_city_2013.csv\"\n",
    "            )\n",
    "df_raw = pd.read_csv(data_path, delimiter= ',')\n"
   ]
  },
  {
   "cell_type": "code",
   "execution_count": 3,
   "metadata": {},
   "outputs": [
    {
     "data": {
      "text/html": [
       "<div>\n",
       "<style scoped>\n",
       "    .dataframe tbody tr th:only-of-type {\n",
       "        vertical-align: middle;\n",
       "    }\n",
       "\n",
       "    .dataframe tbody tr th {\n",
       "        vertical-align: top;\n",
       "    }\n",
       "\n",
       "    .dataframe thead th {\n",
       "        text-align: right;\n",
       "    }\n",
       "</style>\n",
       "<table border=\"1\" class=\"dataframe\">\n",
       "  <thead>\n",
       "    <tr style=\"text-align: right;\">\n",
       "      <th></th>\n",
       "      <th>City</th>\n",
       "      <th>Population</th>\n",
       "      <th>Violent\n",
       "crime</th>\n",
       "      <th>Murder and\n",
       "nonnegligent\n",
       "manslaughter</th>\n",
       "      <th>Rape\n",
       "(revised\n",
       "definition)1</th>\n",
       "      <th>Rape\n",
       "(legacy\n",
       "definition)2</th>\n",
       "      <th>Robbery</th>\n",
       "      <th>Aggravated\n",
       "assault</th>\n",
       "      <th>Property\n",
       "crime</th>\n",
       "      <th>Burglary</th>\n",
       "      <th>Larceny-\n",
       "theft</th>\n",
       "      <th>Motor\n",
       "vehicle\n",
       "theft</th>\n",
       "      <th>Arson3</th>\n",
       "      <th>Unnamed: 13</th>\n",
       "    </tr>\n",
       "  </thead>\n",
       "  <tbody>\n",
       "    <tr>\n",
       "      <th>0</th>\n",
       "      <td>Adams Village</td>\n",
       "      <td>1,861</td>\n",
       "      <td>0</td>\n",
       "      <td>0.000</td>\n",
       "      <td>nan</td>\n",
       "      <td>0</td>\n",
       "      <td>0</td>\n",
       "      <td>0</td>\n",
       "      <td>12</td>\n",
       "      <td>2</td>\n",
       "      <td>10</td>\n",
       "      <td>0</td>\n",
       "      <td>0.000</td>\n",
       "      <td>nan</td>\n",
       "    </tr>\n",
       "    <tr>\n",
       "      <th>1</th>\n",
       "      <td>Addison Town and Village</td>\n",
       "      <td>2,577</td>\n",
       "      <td>3</td>\n",
       "      <td>0.000</td>\n",
       "      <td>nan</td>\n",
       "      <td>0</td>\n",
       "      <td>0</td>\n",
       "      <td>3</td>\n",
       "      <td>24</td>\n",
       "      <td>3</td>\n",
       "      <td>20</td>\n",
       "      <td>1</td>\n",
       "      <td>0.000</td>\n",
       "      <td>nan</td>\n",
       "    </tr>\n",
       "    <tr>\n",
       "      <th>2</th>\n",
       "      <td>Akron Village</td>\n",
       "      <td>2,846</td>\n",
       "      <td>3</td>\n",
       "      <td>0.000</td>\n",
       "      <td>nan</td>\n",
       "      <td>0</td>\n",
       "      <td>0</td>\n",
       "      <td>3</td>\n",
       "      <td>16</td>\n",
       "      <td>1</td>\n",
       "      <td>15</td>\n",
       "      <td>0</td>\n",
       "      <td>0.000</td>\n",
       "      <td>nan</td>\n",
       "    </tr>\n",
       "    <tr>\n",
       "      <th>3</th>\n",
       "      <td>Albany</td>\n",
       "      <td>97,956</td>\n",
       "      <td>791</td>\n",
       "      <td>8.000</td>\n",
       "      <td>nan</td>\n",
       "      <td>30</td>\n",
       "      <td>227</td>\n",
       "      <td>526</td>\n",
       "      <td>4,090</td>\n",
       "      <td>705</td>\n",
       "      <td>3,243</td>\n",
       "      <td>142</td>\n",
       "      <td>nan</td>\n",
       "      <td>nan</td>\n",
       "    </tr>\n",
       "    <tr>\n",
       "      <th>4</th>\n",
       "      <td>Albion Village</td>\n",
       "      <td>6,388</td>\n",
       "      <td>23</td>\n",
       "      <td>0.000</td>\n",
       "      <td>nan</td>\n",
       "      <td>3</td>\n",
       "      <td>4</td>\n",
       "      <td>16</td>\n",
       "      <td>223</td>\n",
       "      <td>53</td>\n",
       "      <td>165</td>\n",
       "      <td>5</td>\n",
       "      <td>nan</td>\n",
       "      <td>nan</td>\n",
       "    </tr>\n",
       "  </tbody>\n",
       "</table>\n",
       "</div>"
      ],
      "text/plain": [
       "                       City Population Violent\\ncrime  \\\n",
       "0             Adams Village      1,861              0   \n",
       "1  Addison Town and Village      2,577              3   \n",
       "2             Akron Village      2,846              3   \n",
       "3                    Albany     97,956            791   \n",
       "4            Albion Village      6,388             23   \n",
       "\n",
       "   Murder and\\nnonnegligent\\nmanslaughter  Rape\\n(revised\\ndefinition)1  \\\n",
       "0                                   0.000                           nan   \n",
       "1                                   0.000                           nan   \n",
       "2                                   0.000                           nan   \n",
       "3                                   8.000                           nan   \n",
       "4                                   0.000                           nan   \n",
       "\n",
       "  Rape\\n(legacy\\ndefinition)2 Robbery Aggravated\\nassault Property\\ncrime  \\\n",
       "0                           0       0                   0              12   \n",
       "1                           0       0                   3              24   \n",
       "2                           0       0                   3              16   \n",
       "3                          30     227                 526           4,090   \n",
       "4                           3       4                  16             223   \n",
       "\n",
       "  Burglary Larceny-\\ntheft Motor\\nvehicle\\ntheft  Arson3  Unnamed: 13  \n",
       "0        2              10                     0   0.000          nan  \n",
       "1        3              20                     1   0.000          nan  \n",
       "2        1              15                     0   0.000          nan  \n",
       "3      705           3,243                   142     nan          nan  \n",
       "4       53             165                     5     nan          nan  "
      ]
     },
     "execution_count": 3,
     "metadata": {},
     "output_type": "execute_result"
    }
   ],
   "source": [
    "df_raw.head()"
   ]
  },
  {
   "cell_type": "code",
   "execution_count": 4,
   "metadata": {},
   "outputs": [
    {
     "data": {
      "text/plain": [
       "Index(['City', 'Population', 'Violent\\ncrime',\n",
       "       'Murder and\\nnonnegligent\\nmanslaughter',\n",
       "       'Rape\\n(revised\\ndefinition)1', 'Rape\\n(legacy\\ndefinition)2',\n",
       "       'Robbery', 'Aggravated\\nassault', 'Property\\ncrime', 'Burglary',\n",
       "       'Larceny-\\ntheft', 'Motor\\nvehicle\\ntheft', 'Arson3', 'Unnamed: 13'],\n",
       "      dtype='object')"
      ]
     },
     "execution_count": 4,
     "metadata": {},
     "output_type": "execute_result"
    }
   ],
   "source": [
    "df_raw.columns"
   ]
  },
  {
   "cell_type": "code",
   "execution_count": 5,
   "metadata": {},
   "outputs": [],
   "source": [
    "# Create new df and Remove rape_1 column and last 3 unwanted rows.\n",
    "df = df_raw.drop(['Rape\\n(revised\\ndefinition)1','Unnamed: 13'], axis=1).drop(df_raw.index[-3:]).copy()"
   ]
  },
  {
   "cell_type": "code",
   "execution_count": 7,
   "metadata": {},
   "outputs": [],
   "source": [
    "# Make a dataframe copy and rename columns\n",
    "df.rename(columns={'Violent\\ncrime':'Violence',\n",
    "                            'Murder and\\nnonnegligent\\nmanslaughter':'Murder',\n",
    "                            'Rape\\n(revised\\ndefinition)1':'Rape_1',\n",
    "                            'Rape\\n(legacy\\ndefinition)2': 'Rape_2',\n",
    "                            'Aggravated\\nassault':'Assault',\n",
    "                            'Property\\ncrime':'Prop_Crime',\n",
    "                            'Larceny-\\ntheft':'Theft',\n",
    "                            'Motor\\nvehicle\\ntheft':'MV_Theft'}, inplace=True)"
   ]
  },
  {
   "cell_type": "code",
   "execution_count": 8,
   "metadata": {},
   "outputs": [],
   "source": [
    "#Pop size squared:\n",
    "\n",
    "## Remove commas in pop size and robbery numericals\n",
    "df['Population'] = df.Population.str.replace(',', '')\n",
    "df['Violence'] = df.Violence.str.replace(',', '')\n",
    "df['Rape_2'] = df.Rape_2.str.replace(',', '')\n",
    "df['Robbery'] = df.Robbery.str.replace(',', '')\n",
    "df['Assault'] = df.Assault.str.replace(',', '')\n",
    "df['Prop_Crime'] = df.Prop_Crime.str.replace(',', '')\n",
    "df['Burglary'] = df.Burglary.str.replace(',', '')\n",
    "df['Theft'] = df.Theft.str.replace(',', '')\n",
    "df['MV_Theft'] = df.MV_Theft.str.replace(',', '')\n",
    "\n",
    "## Convert type to int (from string)\n",
    "df['Population'] = df.Population.astype(int)\n",
    "df['Violence'] = df.Violence.astype(int)\n",
    "df['Murder'] = df.Murder.astype(int)\n",
    "df['Rape_2'] = df.Rape_2.astype(int)\n",
    "df['Assault'] = df.Assault.astype(int)\n",
    "df['Robbery'] = df.Robbery.astype(int)\n",
    "df['Prop_Crime'] = df.Prop_Crime.astype(int)\n",
    "df['Burglary'] = df.Burglary.astype(int)\n",
    "df['Theft'] = df.Theft.astype(int)\n",
    "df['MV_Theft'] = df.MV_Theft.astype(int)"
   ]
  },
  {
   "cell_type": "code",
   "execution_count": 9,
   "metadata": {},
   "outputs": [],
   "source": [
    "# Create new features: murder to categorical, robbery to catgorical\n",
    "df['Murder_feat'] = np.where((df['Murder']==0), 0, 1)\n",
    "df['Robbery_feat'] = np.where((df['Robbery']==0), 0, 1)\n",
    "\n",
    "## Square & Square Root the Population\n",
    "df['Population_Sq_feat'] = df.Population * df.Population\n",
    "df['Population_Sqrt_feat'] = [math.sqrt(x) for x in df.Population]"
   ]
  },
  {
   "cell_type": "code",
   "execution_count": 11,
   "metadata": {},
   "outputs": [
    {
     "data": {
      "text/html": [
       "<div>\n",
       "<style scoped>\n",
       "    .dataframe tbody tr th:only-of-type {\n",
       "        vertical-align: middle;\n",
       "    }\n",
       "\n",
       "    .dataframe tbody tr th {\n",
       "        vertical-align: top;\n",
       "    }\n",
       "\n",
       "    .dataframe thead th {\n",
       "        text-align: right;\n",
       "    }\n",
       "</style>\n",
       "<table border=\"1\" class=\"dataframe\">\n",
       "  <thead>\n",
       "    <tr style=\"text-align: right;\">\n",
       "      <th></th>\n",
       "      <th>City</th>\n",
       "      <th>Population</th>\n",
       "      <th>Prop_Crime</th>\n",
       "      <th>Murder</th>\n",
       "      <th>Theft</th>\n",
       "      <th>Population_Sq_feat</th>\n",
       "    </tr>\n",
       "  </thead>\n",
       "  <tbody>\n",
       "    <tr>\n",
       "      <th>216</th>\n",
       "      <td>New York</td>\n",
       "      <td>8396126</td>\n",
       "      <td>141971</td>\n",
       "      <td>335</td>\n",
       "      <td>117931</td>\n",
       "      <td>70494931807876</td>\n",
       "    </tr>\n",
       "    <tr>\n",
       "      <th>35</th>\n",
       "      <td>Buffalo</td>\n",
       "      <td>258789</td>\n",
       "      <td>12491</td>\n",
       "      <td>47</td>\n",
       "      <td>8076</td>\n",
       "      <td>66971746521</td>\n",
       "    </tr>\n",
       "    <tr>\n",
       "      <th>272</th>\n",
       "      <td>Rochester</td>\n",
       "      <td>210562</td>\n",
       "      <td>10051</td>\n",
       "      <td>42</td>\n",
       "      <td>6855</td>\n",
       "      <td>44336355844</td>\n",
       "    </tr>\n",
       "    <tr>\n",
       "      <th>310</th>\n",
       "      <td>Syracuse</td>\n",
       "      <td>143834</td>\n",
       "      <td>6473</td>\n",
       "      <td>21</td>\n",
       "      <td>4298</td>\n",
       "      <td>20688219556</td>\n",
       "    </tr>\n",
       "    <tr>\n",
       "      <th>3</th>\n",
       "      <td>Albany</td>\n",
       "      <td>97956</td>\n",
       "      <td>4090</td>\n",
       "      <td>8</td>\n",
       "      <td>3243</td>\n",
       "      <td>9595377936</td>\n",
       "    </tr>\n",
       "  </tbody>\n",
       "</table>\n",
       "</div>"
      ],
      "text/plain": [
       "          City  Population  Prop_Crime  Murder   Theft  Population_Sq_feat\n",
       "216   New York     8396126      141971     335  117931      70494931807876\n",
       "35     Buffalo      258789       12491      47    8076         66971746521\n",
       "272  Rochester      210562       10051      42    6855         44336355844\n",
       "310   Syracuse      143834        6473      21    4298         20688219556\n",
       "3       Albany       97956        4090       8    3243          9595377936"
      ]
     },
     "execution_count": 11,
     "metadata": {},
     "output_type": "execute_result"
    }
   ],
   "source": [
    "df[['City','Population','Prop_Crime', 'Murder', 'Theft', 'Population_Sq_feat']].sort_values('Prop_Crime', ascending=False).head()"
   ]
  },
  {
   "cell_type": "code",
   "execution_count": 12,
   "metadata": {},
   "outputs": [],
   "source": [
    "#Creating a variable that drops the outlier city of New York.\n",
    "df_drop_nyc =  df[df.City != 'New York']"
   ]
  },
  {
   "cell_type": "code",
   "execution_count": 13,
   "metadata": {},
   "outputs": [
    {
     "data": {
      "image/png": "[encoded data removed]",
      "text/plain": [
       "<Figure size 432x288 with 2 Axes>"
      ]
     },
     "metadata": {},
     "output_type": "display_data"
    },
    {
     "name": "stdout",
     "output_type": "stream",
     "text": [
      "                      Population  Violence  Murder  Rape_2  Robbery  Assault  \\\n",
      "Population                 1.000     0.999   0.987   0.991    0.998    0.999   \n",
      "Violence                   0.999     1.000   0.992   0.995    1.000    1.000   \n",
      "Murder                     0.987     0.992   1.000   0.998    0.993    0.991   \n",
      "Rape_2                     0.991     0.995   0.998   1.000    0.995    0.994   \n",
      "Robbery                    0.998     1.000   0.993   0.995    1.000    1.000   \n",
      "Assault                    0.999     1.000   0.991   0.994    1.000    1.000   \n",
      "Prop_Crime                 0.996     0.998   0.995   0.998    0.998    0.998   \n",
      "Burglary                   0.971     0.978   0.994   0.992    0.980    0.976   \n",
      "Theft                      0.998     0.999   0.993   0.996    0.999    0.999   \n",
      "MV_Theft                   0.992     0.996   0.998   0.999    0.997    0.995   \n",
      "Arson3                     0.702     0.918   0.963   0.926    0.932    0.888   \n",
      "Murder_feat                0.162     0.166   0.212   0.201    0.166    0.164   \n",
      "Robbery_feat               0.064     0.058   0.070   0.077    0.058    0.057   \n",
      "Population_Sq_feat         0.998     0.997   0.980   0.984    0.996    0.997   \n",
      "Population_Sqrt_feat       0.927     0.924   0.934   0.938    0.925    0.923   \n",
      "\n",
      "                      Prop_Crime  Burglary  Theft  MV_Theft  Arson3  \\\n",
      "Population                 0.996     0.971  0.998     0.992   0.702   \n",
      "Violence                   0.998     0.978  0.999     0.996   0.918   \n",
      "Murder                     0.995     0.994  0.993     0.998   0.963   \n",
      "Rape_2                     0.998     0.992  0.996     0.999   0.926   \n",
      "Robbery                    0.998     0.980  0.999     0.997   0.932   \n",
      "Assault                    0.998     0.976  0.999     0.995   0.888   \n",
      "Prop_Crime                 1.000     0.987  1.000     0.998   0.921   \n",
      "Burglary                   0.987     1.000  0.983     0.991   0.952   \n",
      "Theft                      1.000     0.983  1.000     0.997   0.894   \n",
      "MV_Theft                   0.998     0.991  0.997     1.000   0.935   \n",
      "Arson3                     0.921     0.952  0.894     0.935   1.000   \n",
      "Murder_feat                0.191     0.241  0.183     0.192   0.368   \n",
      "Robbery_feat               0.079     0.098  0.077     0.071   0.166   \n",
      "Population_Sq_feat         0.991     0.959  0.994     0.986   0.784   \n",
      "Population_Sqrt_feat       0.940     0.947  0.936     0.937   0.548   \n",
      "\n",
      "                      Murder_feat  Robbery_feat  Population_Sq_feat  \\\n",
      "Population                  0.162         0.064               0.998   \n",
      "Violence                    0.166         0.058               0.997   \n",
      "Murder                      0.212         0.070               0.980   \n",
      "Rape_2                      0.201         0.077               0.984   \n",
      "Robbery                     0.166         0.058               0.996   \n",
      "Assault                     0.164         0.057               0.997   \n",
      "Prop_Crime                  0.191         0.079               0.991   \n",
      "Burglary                    0.241         0.098               0.959   \n",
      "Theft                       0.183         0.077               0.994   \n",
      "MV_Theft                    0.192         0.071               0.986   \n",
      "Arson3                      0.368         0.166               0.784   \n",
      "Murder_feat                 1.000         0.313               0.133   \n",
      "Robbery_feat                0.313         1.000               0.044   \n",
      "Population_Sq_feat          0.133         0.044               1.000   \n",
      "Population_Sqrt_feat        0.350         0.252               0.905   \n",
      "\n",
      "                      Population_Sqrt_feat  \n",
      "Population                           0.927  \n",
      "Violence                             0.924  \n",
      "Murder                               0.934  \n",
      "Rape_2                               0.938  \n",
      "Robbery                              0.925  \n",
      "Assault                              0.923  \n",
      "Prop_Crime                           0.940  \n",
      "Burglary                             0.947  \n",
      "Theft                                0.936  \n",
      "MV_Theft                             0.937  \n",
      "Arson3                               0.548  \n",
      "Murder_feat                          0.350  \n",
      "Robbery_feat                         0.252  \n",
      "Population_Sq_feat                   0.905  \n",
      "Population_Sqrt_feat                 1.000  \n"
     ]
    }
   ],
   "source": [
    "corrmat = df.corr()\n",
    "corrmat_drop_nyc = df_drop_nyc.corr()\n",
    "\n",
    "# Heatmap with all cities\n",
    "sns.heatmap(corrmat, vmin=0, vmax=1, square=True)\n",
    "plt.show()\n",
    "\n",
    "print(corrmat)"
   ]
  },
  {
   "cell_type": "code",
   "execution_count": 15,
   "metadata": {},
   "outputs": [
    {
     "data": {
      "image/png": "[encoded data removed]",
      "text/plain": [
       "<Figure size 432x288 with 2 Axes>"
      ]
     },
     "metadata": {},
     "output_type": "display_data"
    },
    {
     "name": "stdout",
     "output_type": "stream",
     "text": [
      "                      Population  Violence  Murder  Rape_2  Robbery  Assault  \\\n",
      "Population                 1.000     0.829   0.756   0.797    0.816    0.835   \n",
      "Violence                   0.829     1.000   0.955   0.962    0.994    0.997   \n",
      "Murder                     0.756     0.955   1.000   0.946    0.963    0.938   \n",
      "Rape_2                     0.797     0.962   0.946   1.000    0.949    0.958   \n",
      "Robbery                    0.816     0.994   0.963   0.949    1.000    0.983   \n",
      "Assault                    0.835     0.997   0.938   0.958    0.983    1.000   \n",
      "Prop_Crime                 0.887     0.944   0.917   0.949    0.933    0.942   \n",
      "Burglary                   0.820     0.971   0.956   0.974    0.964    0.964   \n",
      "Theft                      0.901     0.913   0.881   0.921    0.898    0.913   \n",
      "MV_Theft                   0.828     0.987   0.959   0.960    0.989    0.977   \n",
      "Arson3                     0.702     0.918   0.963   0.926    0.932    0.888   \n",
      "Murder_feat                0.503     0.406   0.408   0.403    0.378    0.422   \n",
      "Robbery_feat               0.344     0.168   0.132   0.189    0.154    0.176   \n",
      "Population_Sq_feat         0.889     0.935   0.884   0.888    0.940    0.926   \n",
      "Population_Sqrt_feat       0.928     0.641   0.566   0.628    0.619    0.653   \n",
      "\n",
      "                      Prop_Crime  Burglary  Theft  MV_Theft  Arson3  \\\n",
      "Population                 0.887     0.820  0.901     0.828   0.702   \n",
      "Violence                   0.944     0.971  0.913     0.987   0.918   \n",
      "Murder                     0.917     0.956  0.881     0.959   0.963   \n",
      "Rape_2                     0.949     0.974  0.921     0.960   0.926   \n",
      "Robbery                    0.933     0.964  0.898     0.989   0.932   \n",
      "Assault                    0.942     0.964  0.913     0.977   0.888   \n",
      "Prop_Crime                 1.000     0.977  0.995     0.949   0.921   \n",
      "Burglary                   0.977     1.000  0.950     0.976   0.952   \n",
      "Theft                      0.995     0.950  1.000     0.916   0.894   \n",
      "MV_Theft                   0.949     0.976  0.916     1.000   0.935   \n",
      "Arson3                     0.921     0.952  0.894     0.935   1.000   \n",
      "Murder_feat                0.443     0.402  0.458     0.368   0.368   \n",
      "Robbery_feat               0.267     0.197  0.297     0.164   0.166   \n",
      "Population_Sq_feat         0.893     0.893  0.873     0.938   0.784   \n",
      "Population_Sqrt_feat       0.755     0.656  0.788     0.638   0.548   \n",
      "\n",
      "                      Murder_feat  Robbery_feat  Population_Sq_feat  \\\n",
      "Population                  0.503         0.344               0.889   \n",
      "Violence                    0.406         0.168               0.935   \n",
      "Murder                      0.408         0.132               0.884   \n",
      "Rape_2                      0.403         0.189               0.888   \n",
      "Robbery                     0.378         0.154               0.940   \n",
      "Assault                     0.422         0.176               0.926   \n",
      "Prop_Crime                  0.443         0.267               0.893   \n",
      "Burglary                    0.402         0.197               0.893   \n",
      "Theft                       0.458         0.297               0.873   \n",
      "MV_Theft                    0.368         0.164               0.938   \n",
      "Arson3                      0.368         0.166               0.784   \n",
      "Murder_feat                 1.000         0.311               0.345   \n",
      "Robbery_feat                0.311         1.000               0.152   \n",
      "Population_Sq_feat          0.345         0.152               1.000   \n",
      "Population_Sqrt_feat        0.544         0.499               0.677   \n",
      "\n",
      "                      Population_Sqrt_feat  \n",
      "Population                           0.928  \n",
      "Violence                             0.641  \n",
      "Murder                               0.566  \n",
      "Rape_2                               0.628  \n",
      "Robbery                              0.619  \n",
      "Assault                              0.653  \n",
      "Prop_Crime                           0.755  \n",
      "Burglary                             0.656  \n",
      "Theft                                0.788  \n",
      "MV_Theft                             0.638  \n",
      "Arson3                               0.548  \n",
      "Murder_feat                          0.544  \n",
      "Robbery_feat                         0.499  \n",
      "Population_Sq_feat                   0.677  \n",
      "Population_Sqrt_feat                 1.000  \n"
     ]
    }
   ],
   "source": [
    "# Heatmap without NYC\n",
    "sns.heatmap(corrmat_drop_nyc, vmin=0, vmax=1, square=True)\n",
    "plt.show()\n",
    "\n",
    "print(corrmat_drop_nyc)"
   ]
  },
  {
   "cell_type": "code",
   "execution_count": 23,
   "metadata": {},
   "outputs": [
    {
     "name": "stdout",
     "output_type": "stream",
     "text": [
      "\n",
      "Coefficients: \n",
      " [-3.30443286e-03  1.28981008e+00  5.25901928e+01]\n",
      "\n",
      "Intercept: \n",
      " 20.915651835762446\n",
      "\n",
      "R-squared:\n",
      "0.9999151673695925\n"
     ]
    }
   ],
   "source": [
    "# Instantiate and fit our model.\n",
    "regr = linear_model.LinearRegression()\n",
    "Y = df['Prop_Crime']\n",
    "X = df[['Population', 'Theft', 'Murder']]\n",
    "regr.fit(X, Y)\n",
    "\n",
    "# Inspect the results.\n",
    "print('\\nCoefficients: \\n', regr.coef_)\n",
    "print('\\nIntercept: \\n', regr.intercept_)\n",
    "print('\\nR-squared:')\n",
    "print(regr.score(X, Y))"
   ]
  },
  {
   "cell_type": "code",
   "execution_count": 19,
   "metadata": {},
   "outputs": [
    {
     "name": "stderr",
     "output_type": "stream",
     "text": [
      "/usr/local/lib/python3.7/site-packages/scipy/stats/stats.py:1713: FutureWarning: Using a non-tuple sequence for multidimensional indexing is deprecated; use `arr[tuple(seq)]` instead of `arr[seq]`. In the future this will be interpreted as an array index, `arr[np.array(seq)]`, which will result either in an error or a different result.\n",
      "  return np.add.reduce(sorted[indexer] * weights, axis=axis) / sumval\n"
     ]
    },
    {
     "data": {
      "text/plain": [
       "<matplotlib.axes._subplots.AxesSubplot at 0x118c4cba8>"
      ]
     },
     "execution_count": 19,
     "metadata": {},
     "output_type": "execute_result"
    },
    {
     "data": {
      "image/png": "[encoded data removed]",
      "text/plain": [
       "<Figure size 432x288 with 1 Axes>"
      ]
     },
     "metadata": {},
     "output_type": "display_data"
    }
   ],
   "source": [
    "sns.regplot(df.Murder, df.Prop_Crime)"
   ]
  },
  {
   "cell_type": "code",
   "execution_count": 24,
   "metadata": {},
   "outputs": [
    {
     "data": {
      "image/png": "[encoded data removed]",
      "text/plain": [
       "<Figure size 432x288 with 1 Axes>"
      ]
     },
     "metadata": {},
     "output_type": "display_data"
    }
   ],
   "source": [
    "# Extract predicted values.\n",
    "predicted = regr.predict(X).ravel()\n",
    "actual = df['Prop_Crime']\n",
    "\n",
    "# Calculate the error, also called the residual.\n",
    "residual = actual - predicted\n",
    "\n",
    "# This looks a bit concerning.\n",
    "sns.distplot(residual, kde=False, rug=True, bins=25)\n",
    "plt.title('Residual counts')\n",
    "plt.xlabel('Residual')\n",
    "plt.ylabel('Count')\n",
    "plt.show()"
   ]
  },
  {
   "cell_type": "code",
   "execution_count": 25,
   "metadata": {},
   "outputs": [
    {
     "data": {
      "image/png": "[encoded data removed]",
      "text/plain": [
       "<Figure size 432x288 with 4 Axes>"
      ]
     },
     "metadata": {},
     "output_type": "display_data"
    }
   ],
   "source": [
    "# Checking out the distribution of the independent variable: TV\n",
    "fig = plt.figure()\n",
    "plt.subplots_adjust(left=None, bottom=-.5, right=None, top=None, wspace=None, hspace=None)\n",
    "\n",
    "fig.add_subplot(221)\n",
    "sns.distplot(df['Prop_Crime'], kde=False, rug=True, bins=25)\n",
    "plt.title('Raw Property Crimes')\n",
    "plt.xlabel('Property Crimes')\n",
    "plt.ylabel('Count of Property Crimes')\n",
    "\n",
    "fig.add_subplot(222)\n",
    "sns.distplot(np.log(df['Prop_Crime'][df.Prop_Crime != 0]),kde=False, rug=True, bins=10)\n",
    "plt.title('Log Property Crimes')\n",
    "plt.xlabel('Property Crimes')\n",
    "plt.ylabel('Count of Property Crimes')\n",
    "\n",
    "fig.add_subplot(223)\n",
    "sns.distplot(np.sqrt(df['Prop_Crime']),kde=False, rug=True, bins=25)\n",
    "plt.title('Square root Property Crimes')\n",
    "plt.xlabel('Property Crimes')\n",
    "plt.ylabel('Count of Property Crimes')\n",
    "\n",
    "# ax3=fig.add_subplot(224)\n",
    "# Box Cox Transformation:\n",
    "# http://www.kmdatascience.com/2017/07/box-cox-transformations-in-python.html\n",
    "\n",
    "# Transform_Prop_Crime = np.asarray(df['Prop_Crime'][df.Prop_Crime != 0].values)\n",
    "\n",
    "# # transform values and store as \"sales_boxcox\"\n",
    "# Prop_Crime_boxcox = boxcox(Transform_Prop_Crime)[0]\n",
    "\n",
    "# # # create the boxcox_sales transformed variable:\n",
    "# df['Prop_Crime_boxcox'] = Prop_Crime_boxcox\n",
    "\n",
    "# print(df.Prop_Crime_boxcox.unique())\n",
    "\n",
    "# # plot the transformed box cox data\n",
    "ax3=fig.add_subplot(224)\n",
    "plt.hist(1/df['Prop_Crime'][df.Prop_Crime != 0])\n",
    "plt.title('Inverse')\n",
    "plt.show()\n",
    "\n",
    "# plt.show()"
   ]
  },
  {
   "cell_type": "code",
   "execution_count": 26,
   "metadata": {},
   "outputs": [
    {
     "data": {
      "image/png": "[encoded data removed]",
      "text/plain": [
       "<Figure size 432x288 with 1 Axes>"
      ]
     },
     "metadata": {},
     "output_type": "display_data"
    }
   ],
   "source": [
    "plt.scatter(predicted, residual)\n",
    "plt.xlabel('Predicted')\n",
    "plt.ylabel('Residual')\n",
    "plt.axhline(y=0)\n",
    "plt.title('Residual vs. Predicted')\n",
    "plt.show()"
   ]
  },
  {
   "cell_type": "code",
   "execution_count": 45,
   "metadata": {},
   "outputs": [
    {
     "data": {
      "image/png": "[encoded data removed]",
      "text/plain": [
       "<Figure size 432x288 with 1 Axes>"
      ]
     },
     "metadata": {},
     "output_type": "display_data"
    }
   ],
   "source": [
    "lm_all = smf.ols(formula = \"Prop_Crime ~ Population + Murder +Theft\", data = df).fit()\n",
    "\n",
    "resid = lm_all.resid\n",
    "plt.scatter(lm_all.predict(), resid)\n",
    "plt.xlabel('Predicted')\n",
    "plt.ylabel('Residual')\n",
    "plt.axhline(y=0)\n",
    "plt.title('Residual vs. Predicted (All)')\n",
    "plt.show()\n",
    "plt.show()"
   ]
  },
  {
   "cell_type": "code",
   "execution_count": 46,
   "metadata": {},
   "outputs": [
    {
     "data": {
      "image/png": "[encoded data removed]",
      "text/plain": [
       "<Figure size 432x288 with 1 Axes>"
      ]
     },
     "metadata": {},
     "output_type": "display_data"
    }
   ],
   "source": [
    "lm_drop_nyc = smf.ols(formula = \"Prop_Crime ~ Population + Murder +Theft\", data = df_drop_nyc).fit()\n",
    "\n",
    "resid = lm_drop_nyc.resid\n",
    "plt.scatter(lm_drop_nyc.predict(), resid)\n",
    "plt.xlabel('Predicted')\n",
    "plt.ylabel('Residual')\n",
    "plt.axhline(y=0)\n",
    "plt.title('Residual vs. Predicted (Drop NYC)')\n",
    "plt.show()"
   ]
  },
  {
   "cell_type": "code",
   "execution_count": 20,
   "metadata": {},
   "outputs": [
    {
     "name": "stdout",
     "output_type": "stream",
     "text": [
      "                            OLS Regression Results                            \n",
      "==============================================================================\n",
      "Dep. Variable:             Prop_Crime   R-squared:                       0.993\n",
      "Model:                            OLS   Adj. R-squared:                  0.993\n",
      "Method:                 Least Squares   F-statistic:                 4.606e+04\n",
      "Date:                Fri, 16 Nov 2018   Prob (F-statistic):               0.00\n",
      "Time:                        08:17:14   Log-Likelihood:                -2753.3\n",
      "No. Observations:                 348   AIC:                             5511.\n",
      "Df Residuals:                     346   BIC:                             5518.\n",
      "Df Model:                           1                                         \n",
      "Covariance Type:            nonrobust                                         \n",
      "==============================================================================\n",
      "                 coef    std err          t      P>|t|      [0.025      0.975]\n",
      "------------------------------------------------------------------------------\n",
      "Intercept    113.7030     35.646      3.190      0.002      43.593     183.813\n",
      "Population     0.0170    7.9e-05    214.621      0.000       0.017       0.017\n",
      "==============================================================================\n",
      "Omnibus:                      550.447   Durbin-Watson:                   2.038\n",
      "Prob(Omnibus):                  0.000   Jarque-Bera (JB):           116170.450\n",
      "Skew:                           8.549   Prob(JB):                         0.00\n",
      "Kurtosis:                      90.860   Cond. No.                     4.53e+05\n",
      "==============================================================================\n",
      "\n",
      "Warnings:\n",
      "[1] Standard Errors assume that the covariance matrix of the errors is correctly specified.\n",
      "[2] The condition number is large, 4.53e+05. This might indicate that there are\n",
      "strong multicollinearity or other numerical problems.\n"
     ]
    }
   ],
   "source": [
    "lm = smf.ols(formula = \"Prop_Crime ~ Population\", data = df).fit()\n",
    "print(lm.summary())\n",
    "\n",
    "elem1res = pd.concat([df, pd.Series(lm.resid, name = 'resid'), pd.Series(lm.predict(), name = \"predict\")], axis = 1)"
   ]
  },
  {
   "cell_type": "markdown",
   "metadata": {},
   "source": [
    "### Writeup"
   ]
  },
  {
   "cell_type": "markdown",
   "metadata": {},
   "source": [
    "#### Assumption one: linear relationship\n",
    "Using the raw variables Population, Theft, and Murder produce an R-Squared of 99.9% and thus, virtually all of the variance Property Crimes.\n",
    "\n",
    "Looking at the coefficients, there's a intercept of 20.9, which indicates that Property Crimes would happen with the other crimes of Population, Theft, and Murder happening. Murder has the highest per Property Crime increase on with 5.3 per Property Crime."
   ]
  },
  {
   "cell_type": "markdown",
   "metadata": {},
   "source": [
    "#### Assumption two: multivariate normality\n",
    "The error from the model (calculated by subtracting the model-predicted values from the real outcome values) should is normally distributed, with a very high reversion to the mean.\n",
    "\n",
    "Initially, despite the City of New York being an large outlier, it actually maps well along the line of best fit amongst the different crime variables. Dropping New York actually resulted in less accuracy and weaker linear relationship.\n",
    "\n",
    "While transforming the data to log more evenly distributes the data, the raw distribution is sufficient enough, with an understanding of the high reversion to the mean."
   ]
  },
  {
   "cell_type": "markdown",
   "metadata": {},
   "source": [
    "#### Assumption three: homoscedasticity\n",
    "At first glance, the errors seem to not be consistently distributed. The scale of the scatter plot is framing this view, and removing NYC illustrates that the rest of the data is more consistently distributed.\n",
    "\n",
    "The larger value of NYC is still consistent with the other errors, however just much larger."
   ]
  },
  {
   "cell_type": "markdown",
   "metadata": {},
   "source": [
    "#### Assumption four: low multicollinearity¶\n",
    "Colinarity is actually too high among the crime variables and I would recommend dropping the Theft variable."
   ]
  }
 ],
 "metadata": {
  "kernelspec": {
   "display_name": "Python 3",
   "language": "python",
   "name": "python3"
  },
  "language_info": {
   "codemirror_mode": {
    "name": "ipython",
    "version": 3
   },
   "file_extension": ".py",
   "mimetype": "text/x-python",
   "name": "python",
   "nbconvert_exporter": "python",
   "pygments_lexer": "ipython3",
   "version": "3.7.0"
  }
 },
 "nbformat": 4,
 "nbformat_minor": 2
}
